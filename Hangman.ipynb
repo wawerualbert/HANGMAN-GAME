{
  "nbformat": 4,
  "nbformat_minor": 2,
  "metadata": {
    "colab": {
      "name": "Hangman.ipynb",
      "provenance": []
    },
    "kernelspec": {
      "name": "python3",
      "display_name": "Python 3"
    },
    "language_info": {
      "name": "python"
    }
  },
  "cells": [
    {
      "cell_type": "code",
      "execution_count": 5,
      "source": [
        "import random "
      ],
      "outputs": [],
      "metadata": {
        "id": "zDT1DRkbs8MO"
      }
    },
    {
      "cell_type": "markdown",
      "source": [
        "Define a dictionaries of guesses you would want to use. Feel free to use any method to have your words defined, plus a theme, be it from a file. Here is an example of a key and value combination reflecting the words within the topic. "
      ],
      "metadata": {
        "id": "w8Id1jhnFPdh"
      }
    },
    {
      "cell_type": "code",
      "execution_count": 58,
      "source": [
        "Themes = {\n",
        "    \"history\": [\n",
        "        \"marco polo\",\n",
        "        \"Napoleon\",\n",
        "        \"Mesopotamia\",\n",
        "        \"Persia\",\n",
        "        \"World War\"\n",
        "    ],\n",
        "    \"computers\": [\n",
        "        \"Bus\",\n",
        "        \"semiconductor\",\n",
        "        \"keyboard\",\n",
        "        \"vaccum tube\",\n",
        "        \"nanometer\"\n",
        "    ],\n",
        "     \"cars\": [\n",
        "        \"Dodge\",\n",
        "        \"Toyota\",\n",
        "        \"daihatsu\",\n",
        "        \"displacement\",\n",
        "        \"stroke\"\n",
        "    ]\n",
        "}"
      ],
      "outputs": [],
      "metadata": {
        "id": "j50qAxhatq9S"
      }
    },
    {
      "cell_type": "code",
      "execution_count": 14,
      "source": [
        "\n",
        "## You can use this function to get the keys in your dictionary for which you want to use as a theme \n",
        "def get_nth_key(dictionary, n=0):\n",
        "    if n < 0:\n",
        "        n += len(dictionary)\n",
        "    for i, key in enumerate(dictionary.keys()):\n",
        "        if i == n:\n",
        "            return key\n",
        "    raise IndexError(\"dictionary index out of range\") "
      ],
      "outputs": [],
      "metadata": {
        "id": "CuqJUAHKvVnQ"
      }
    },
    {
      "cell_type": "code",
      "execution_count": 61,
      "source": [
        "get_nth_key(Themes,n=random.randint(1,len(Themes))-1) # Choose at random which theme you want to use as a hint for the user. "
      ],
      "outputs": [
        {
          "output_type": "execute_result",
          "data": {
            "application/vnd.google.colaboratory.intrinsic+json": {
              "type": "string"
            },
            "text/plain": [
              "'computers'"
            ]
          },
          "metadata": {
            "tags": []
          },
          "execution_count": 61
        }
      ],
      "metadata": {
        "colab": {
          "base_uri": "https://localhost:8080/",
          "height": 35
        },
        "id": "btOETPFbv1Q2",
        "outputId": "1de466bb-bb10-4cad-806f-5cfb95d833e7"
      }
    },
    {
      "cell_type": "code",
      "execution_count": 68,
      "source": [
        "random.choice(Themes[get_nth_key(Themes)]) # Use indexing to identify the masked word as shown. "
      ],
      "outputs": [
        {
          "output_type": "execute_result",
          "data": {
            "application/vnd.google.colaboratory.intrinsic+json": {
              "type": "string"
            },
            "text/plain": [
              "'Mesopotamia'"
            ]
          },
          "metadata": {
            "tags": []
          },
          "execution_count": 68
        }
      ],
      "metadata": {
        "colab": {
          "base_uri": "https://localhost:8080/",
          "height": 35
        },
        "id": "A-ZxLMvKFkHN",
        "outputId": "29cc5362-f54b-4f1c-b69f-314bed2f03b8"
      }
    },
    {
      "cell_type": "code",
      "execution_count": null,
      "source": [
        "# Use the above to define you get word function. \n",
        "\n",
        "def get_word():\n",
        "  ############\n",
        "  ############\n",
        "  return word.lower()"
      ],
      "outputs": [],
      "metadata": {
        "id": "jP5-6x_9Gthj"
      }
    },
    {
      "cell_type": "code",
      "execution_count": 32,
      "source": [
        "###### Define your Play function with necessary lists containing the character and full word guessess. \n",
        "import string\n",
        "def play():\n",
        "    lives = 6\n",
        "    word = get_word()\n",
        "    word_letters = set(word)  # set of letters in the word\n",
        "    alphabet = set(string.ascii_letters)\n",
        "    used_letters = set()  # keep track of user letters\n",
        "\n",
        "    # getting user input\n",
        "    while len(word_letters) > 0 and lives > 0:\n",
        "        # used letters to keep track\n",
        "        print('You have ', lives, 'lives left')\n",
        "        # what current word is ie ( w-rd)\n",
        "        current_word = [letter if letter in used_letters else '-' for letter in word]\n",
        "        print(''.join(current_word))\n",
        "        user_letters = input('Input a letter: ')\n",
        "        if user_letters in alphabet - used_letters:\n",
        "            used_letters.add(user_letters)\n",
        "            if user_letters in word_letters:\n",
        "                word_letters.remove(user_letters)\n",
        "            else:\n",
        "                lives = lives - 1\n",
        "                print('Letter is not in word')\n",
        "\n",
        "        elif user_letters in used_letters:\n",
        "            print('You have already typed this letter.Please try again.')\n",
        "\n",
        "        else:\n",
        "            print('Invalid character..Please try again')\n",
        "\n",
        "    if lives == 0:\n",
        "        print('You are hanged !! The word was', word)\n",
        "    else:\n",
        "        print(f'You survived!!. You guessed the word {word} correctly')\n",
        "\n",
        "play()\n"
      ],
      "outputs": [],
      "metadata": {
        "id": "-APRiZ52wNhg"
      }
    },
    {
      "cell_type": "code",
      "execution_count": 52,
      "source": [
        "guessed('chris')"
      ],
      "outputs": [
        {
          "output_type": "execute_result",
          "data": {
            "application/vnd.google.colaboratory.intrinsic+json": {
              "type": "string"
            },
            "text/plain": [
              "'*****'"
            ]
          },
          "metadata": {
            "tags": []
          },
          "execution_count": 52
        }
      ],
      "metadata": {
        "colab": {
          "base_uri": "https://localhost:8080/",
          "height": 35
        },
        "id": "OnwbvYHnDagB",
        "outputId": "69823ba2-bfbe-444d-c6dc-2a2f4bcfca66"
      }
    }
  ]
}